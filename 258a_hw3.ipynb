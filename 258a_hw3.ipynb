{
 "cells": [
  {
   "cell_type": "markdown",
   "metadata": {},
   "source": [
    "# MAT 258A: Homework 3"
   ]
  },
  {
   "cell_type": "markdown",
   "metadata": {},
   "source": [
    "# Exercise 1\n",
    "In this exercise, I test the code of 'pure' Newton (newtmin), Newton method with Armijo backtracking (newtmin1), Newton method with Armijo backtracking and two different way of treatment of the Hessian (newtmin2 and newtmin3) and BFGS method with treatment of the initial Hessian (mybfgs)"
   ]
  },
  {
   "cell_type": "markdown",
   "metadata": {},
   "source": [
    "$\n",
    "    \\begin{array}{cccccc}\n",
    "    &\\textrm{pure Newton}&\\textrm{newtmin1}&\\textrm{newtmin2}&\\textrm{newtmin3}&\\textrm{GFGS}\\\\\n",
    "    1&\\surd &&&&\\\\\n",
    "    2&\\times &\\times&\\times&\\times&\\surd\\\\\n",
    "    3&\\surd &&&&\\\\\n",
    "    4&\\surd &&&&\\\\\n",
    "    5&\\surd &&&&\\\\\n",
    "    6&\\surd &&&&\\\\\n",
    "    7&\\times &\\times&\\times&\\times&\\surd\\\\\n",
    "    8&\\surd &&&&\\\\\n",
    "    9&\\surd &&&&\\\\\n",
    "    10&\\times &\\times&\\surd&&\\\\\n",
    "    11&\\times &\\times&\\times&\\surd&\\\\\n",
    "    12&\\times &\\times&\\surd&&\\\\\n",
    "    13&\\surd &&&&\\\\\n",
    "    14&\\times &\\times&\\times&\\times&\\times\\\\\n",
    "    15&\\times &\\times&\\times&\\times&\\surd\\\\\n",
    "    16&\\surd &&&&\\\\\n",
    "    17&\\surd &&&&\\\\\n",
    "    18&\\times &\\times&\\times&\\times&\\times\\\\\n",
    "    \\end{array}\n",
    "$"
   ]
  },
  {
   "cell_type": "markdown",
   "metadata": {},
   "source": [
    "The above table shows the outcome of those methods, it is 'success' if the gradient's norm is relatively small, i.e., $\\frac{\\|g(x^*)\\|}{\\|g(x_0)\\|}\\leqslant10^{-5}$, this is a relatively high requirement and actually one can see that those 'failed' cases in BFGS and newtmin2 and newtmin3 also have a relatively small norm of the gradient. Below is technical details of the exercise."
   ]
  },
  {
   "cell_type": "code",
   "execution_count": 1,
   "metadata": {
    "collapsed": false
   },
   "outputs": [],
   "source": [
    "using Toms566\n",
    "using PyPlot"
   ]
  },
  {
   "cell_type": "code",
   "execution_count": 2,
   "metadata": {
    "collapsed": false
   },
   "outputs": [
    {
     "name": "stderr",
     "output_type": "stream",
     "text": [
      "INFO: Testing Toms566\n"
     ]
    },
    {
     "name": "stdout",
     "output_type": "stream",
     "text": [
      "No.  Name                             n        f(x0)     |∇f(x0)| cond(∇²f(x0))\n",
      "  "
     ]
    },
    {
     "name": "stderr",
     "output_type": "stream",
     "text": [
      "INFO: Toms566 tests passed\n"
     ]
    },
    {
     "name": "stdout",
     "output_type": "stream",
     "text": [
      "1  Hellical valley                  3     2.50e+03     1.88e+03     9.82e+00\n",
      "  2  Bigg's EXP6                      6     7.79e-01     2.55e+00     1.30e+01\n",
      "  3  Gaussian                         3     3.89e-06     7.45e-03     5.10e+01\n",
      "  4  Powell                           2     1.14e+00     2.00e+04     1.37e+08\n",
      "  5  Box 3-dim                        3     1.03e+03     1.49e+02     1.19e+02\n",
      "  6  Variably dimensioned            40     9.39e+10     1.01e+11     1.65e+04\n",
      "  7  Watson                           9     3.00e+01     1.78e+02     1.63e+02\n",
      "  8  Penalty I                       60     5.45e+09     8.02e+07     4.24e+00\n",
      "  9  Penalty II                      65     2.87e+05     3.28e+05     9.84e+01\n",
      " 10  Brown badly scaled               2     1.00e+12     2.00e+06     1.00e+00\n",
      " 11  Brown and Denis                  4     7.93e+06     2.14e+06     6.93e+02\n",
      " 12  Gulf research and development    3     1.21e+01     3.97e+01     4.65e+04\n",
      " 13  Trigonometric                   40     2.01e-03     5.30e-02     1.57e+02\n",
      " 14  Extended rosenbrock             40     4.84e+02     1.04e+03     9.90e+01\n",
      " 15  Extended Powell singular        60     3.23e+03     1.78e+03     2.27e+01\n",
      " 16  Beale                            2     1.42e+01     2.78e+01     7.97e+00\n",
      " 17  Wood                             4     1.92e+04     1.64e+04     1.69e+02\n",
      " 18  Chebyquad                       50     1.39e-02     2.65e+00     6.30e+02\n"
     ]
    }
   ],
   "source": [
    "Pkg.test(\"Toms566\")"
   ]
  },
  {
   "cell_type": "code",
   "execution_count": 3,
   "metadata": {
    "collapsed": false
   },
   "outputs": [
    {
     "data": {
      "text/plain": [
       "newtmin (generic function with 1 method)"
      ]
     },
     "execution_count": 3,
     "metadata": {},
     "output_type": "execute_result"
    }
   ],
   "source": [
    "function newtmin( obj, x0; maxIts=100, optTol=1e-6)\n",
    "     #\"Pure\" Newton method\n",
    "     # Minimize a function f using Newton’s method.\n",
    "     # obj:  a function that evaluates the objective value,\n",
    "     # gradient, and Hessian at a point x, i.e.,\n",
    "     # (f, g, H) = obj(x)\n",
    "     # x0: starting point.\n",
    "     # maxIts (optional): maximum number of iterations.\n",
    "     # optTol (optional): optimality tolerance based on\n",
    "     #                    ||grad(x)|| <= optTol*||grad(x0)||\n",
    "    x=x0\n",
    "    status = 0\n",
    "    its = 0\n",
    "    (f0,g0,H0)=obj(x0)\n",
    "    (f,g,H)=obj(x)\n",
    "    while status != 1\n",
    "        x = x-inv(H)*g\n",
    "        (f,g,H)=obj(x)\n",
    "        its = its+1\n",
    "        if norm(g)<= optTol*norm(g0)\n",
    "            status = 1\n",
    "        end\n",
    "        if its>maxIts\n",
    "            status = 1\n",
    "        end\n",
    "    end\n",
    "return (x, its)\n",
    "end"
   ]
  },
  {
   "cell_type": "code",
   "execution_count": 4,
   "metadata": {
    "collapsed": false
   },
   "outputs": [
    {
     "data": {
      "text/plain": [
       "10x10 Array{Float64,2}:\n",
       " 1.0  0.0  0.0  0.0  0.0  0.0  0.0  0.0  0.0  0.0\n",
       " 0.0  1.0  0.0  0.0  0.0  0.0  0.0  0.0  0.0  0.0\n",
       " 0.0  0.0  1.0  0.0  0.0  0.0  0.0  0.0  0.0  0.0\n",
       " 0.0  0.0  0.0  1.0  0.0  0.0  0.0  0.0  0.0  0.0\n",
       " 0.0  0.0  0.0  0.0  1.0  0.0  0.0  0.0  0.0  0.0\n",
       " 0.0  0.0  0.0  0.0  0.0  1.0  0.0  0.0  0.0  0.0\n",
       " 0.0  0.0  0.0  0.0  0.0  0.0  1.0  0.0  0.0  0.0\n",
       " 0.0  0.0  0.0  0.0  0.0  0.0  0.0  1.0  0.0  0.0\n",
       " 0.0  0.0  0.0  0.0  0.0  0.0  0.0  0.0  1.0  0.0\n",
       " 0.0  0.0  0.0  0.0  0.0  0.0  0.0  0.0  0.0  1.0"
      ]
     },
     "execution_count": 4,
     "metadata": {},
     "output_type": "execute_result"
    }
   ],
   "source": [
    "v=randn(10,1)\n",
    "A=randn(10,10)\n",
    "inv(A)\n",
    "eye(10)"
   ]
  },
  {
   "cell_type": "code",
   "execution_count": 5,
   "metadata": {
    "collapsed": false
   },
   "outputs": [
    {
     "data": {
      "text/plain": [
       "obj (generic function with 1 method)"
      ]
     },
     "execution_count": 5,
     "metadata": {},
     "output_type": "execute_result"
    }
   ],
   "source": [
    "function obj(x)\n",
    "    f=1/2*norm(x-v)^2\n",
    "    g=x-v\n",
    "    H=eye(10)\n",
    "    return (f,g,H)\n",
    "end"
   ]
  },
  {
   "cell_type": "code",
   "execution_count": 6,
   "metadata": {
    "collapsed": false
   },
   "outputs": [
    {
     "data": {
      "text/plain": [
       "0.0"
      ]
     },
     "execution_count": 6,
     "metadata": {},
     "output_type": "execute_result"
    }
   ],
   "source": [
    "x0=zeros(10,1)\n",
    "(x,it)=newtmin( obj, x0; maxIts=100, optTol=1e-6)\n",
    "norm(x-v)"
   ]
  },
  {
   "cell_type": "code",
   "execution_count": 7,
   "metadata": {
    "collapsed": false
   },
   "outputs": [
    {
     "data": {
      "text/plain": [
       "Toms566.Problem:\n",
       " name: Hellical valley\n",
       " n: 3"
      ]
     },
     "execution_count": 7,
     "metadata": {},
     "output_type": "execute_result"
    }
   ],
   "source": [
    "p = Problem(1) # Hellical Valley"
   ]
  },
  {
   "cell_type": "code",
   "execution_count": 10,
   "metadata": {
    "collapsed": false
   },
   "outputs": [
    {
     "data": {
      "text/plain": [
       "obj (generic function with 1 method)"
      ]
     },
     "execution_count": 10,
     "metadata": {},
     "output_type": "execute_result"
    }
   ],
   "source": [
    "function obj(x)\n",
    "    f = p.obj(x)   # objective value at x\n",
    "    g = p.grd(x)   # gradient at x\n",
    "    H = p.hes(x)   # Hessian at x\n",
    "    return (f,g,H)\n",
    "end"
   ]
  },
  {
   "cell_type": "code",
   "execution_count": 9,
   "metadata": {
    "collapsed": false
   },
   "outputs": [
    {
     "data": {
      "text/plain": [
       "1.0002073324421774e-8"
      ]
     },
     "execution_count": 9,
     "metadata": {},
     "output_type": "execute_result"
    }
   ],
   "source": [
    "x0=p.x0 \n",
    "(x,it)=newtmin( obj, x0; maxIts=100, optTol=1e-6)\n",
    "norm(p.grd(x))/norm(p.grd(x0))"
   ]
  },
  {
   "cell_type": "code",
   "execution_count": 10,
   "metadata": {
    "collapsed": false
   },
   "outputs": [
    {
     "data": {
      "text/plain": [
       "11735.764558124118"
      ]
     },
     "execution_count": 10,
     "metadata": {},
     "output_type": "execute_result"
    }
   ],
   "source": [
    "p = Problem(2)\n",
    "function obj(x)\n",
    "    f = p.obj(x)   # objective value at x\n",
    "    g = p.grd(x)   # gradient at x\n",
    "    H = p.hes(x)   # Hessian at x\n",
    "    return (f,g,H)\n",
    "end\n",
    "x0=p.x0 \n",
    "(x,it)=newtmin( obj, x0; maxIts=100, optTol=1e-6)\n",
    "norm(p.grd(x))/norm(p.grd(x0))"
   ]
  },
  {
   "cell_type": "code",
   "execution_count": 6,
   "metadata": {
    "collapsed": false
   },
   "outputs": [
    {
     "data": {
      "text/plain": [
       "1.3020078124065462e-8"
      ]
     },
     "execution_count": 6,
     "metadata": {},
     "output_type": "execute_result"
    }
   ],
   "source": [
    "p = Problem(3) \n",
    "function obj(x)\n",
    "    f = p.obj(x)   # objective value at x\n",
    "    g = p.grd(x)   # gradient at x\n",
    "    H = p.hes(x)   # Hessian at x\n",
    "    return (f,g,H)\n",
    "end\n",
    "x0=p.x0 \n",
    "(x,it)=newtmin( obj, x0; maxIts=100, optTol=1e-6)\n",
    "norm(p.grd(x))/norm(p.grd(x0))"
   ]
  },
  {
   "cell_type": "code",
   "execution_count": 12,
   "metadata": {
    "collapsed": false
   },
   "outputs": [
    {
     "data": {
      "text/plain": [
       "1.0155390280377853e-9"
      ]
     },
     "execution_count": 12,
     "metadata": {},
     "output_type": "execute_result"
    }
   ],
   "source": [
    "p = Problem(4) \n",
    "function obj(x)\n",
    "    f = p.obj(x)   # objective value at x\n",
    "    g = p.grd(x)   # gradient at x\n",
    "    H = p.hes(x)   # Hessian at x\n",
    "    return (f,g,H)\n",
    "end\n",
    "x0=p.x0 \n",
    "(x,it)=newtmin( obj, x0; maxIts=100, optTol=1e-6)\n",
    "norm(p.grd(x))/norm(p.grd(x0))"
   ]
  },
  {
   "cell_type": "code",
   "execution_count": 13,
   "metadata": {
    "collapsed": false
   },
   "outputs": [
    {
     "data": {
      "text/plain": [
       "8.68652479136446e-7"
      ]
     },
     "execution_count": 13,
     "metadata": {},
     "output_type": "execute_result"
    }
   ],
   "source": [
    "p = Problem(5) \n",
    "function obj(x)\n",
    "    f = p.obj(x)   # objective value at x\n",
    "    g = p.grd(x)   # gradient at x\n",
    "    H = p.hes(x)   # Hessian at x\n",
    "    return (f,g,H)\n",
    "end\n",
    "x0=p.x0 \n",
    "(x,it)=newtmin( obj, x0; maxIts=100, optTol=1e-6)\n",
    "norm(p.grd(x))/norm(p.grd(x0))"
   ]
  },
  {
   "cell_type": "code",
   "execution_count": 14,
   "metadata": {
    "collapsed": false
   },
   "outputs": [
    {
     "data": {
      "text/plain": [
       "6.720802512276261e-7"
      ]
     },
     "execution_count": 14,
     "metadata": {},
     "output_type": "execute_result"
    }
   ],
   "source": [
    "p = Problem(6) \n",
    "function obj(x)\n",
    "    f = p.obj(x)   # objective value at x\n",
    "    g = p.grd(x)   # gradient at x\n",
    "    H = p.hes(x)   # Hessian at x\n",
    "    return (f,g,H)\n",
    "end\n",
    "x0=p.x0 \n",
    "(x,it)=newtmin( obj, x0; maxIts=100, optTol=1e-6)\n",
    "norm(p.grd(x))/norm(p.grd(x0))"
   ]
  },
  {
   "cell_type": "code",
   "execution_count": 15,
   "metadata": {
    "collapsed": false
   },
   "outputs": [
    {
     "data": {
      "text/plain": [
       "9.060968995677416e18"
      ]
     },
     "execution_count": 15,
     "metadata": {},
     "output_type": "execute_result"
    }
   ],
   "source": [
    "p = Problem(7) \n",
    "function obj(x)\n",
    "    f = p.obj(x)   # objective value at x\n",
    "    g = p.grd(x)   # gradient at x\n",
    "    H = p.hes(x)   # Hessian at x\n",
    "    return (f,g,H)\n",
    "end\n",
    "x0=p.x0 \n",
    "(x,it)=newtmin( obj, x0; maxIts=100, optTol=1e-6)\n",
    "norm(p.grd(x))/norm(p.grd(x0))"
   ]
  },
  {
   "cell_type": "code",
   "execution_count": 16,
   "metadata": {
    "collapsed": false
   },
   "outputs": [
    {
     "data": {
      "text/plain": [
       "9.223518288696248e-7"
      ]
     },
     "execution_count": 16,
     "metadata": {},
     "output_type": "execute_result"
    }
   ],
   "source": [
    "p = Problem(8) \n",
    "function obj(x)\n",
    "    f = p.obj(x)   # objective value at x\n",
    "    g = p.grd(x)   # gradient at x\n",
    "    H = p.hes(x)   # Hessian at x\n",
    "    return (f,g,H)\n",
    "end\n",
    "x0=p.x0 \n",
    "(x,it)=newtmin( obj, x0; maxIts=100, optTol=1e-6)\n",
    "norm(p.grd(x))/norm(p.grd(x0))"
   ]
  },
  {
   "cell_type": "code",
   "execution_count": 17,
   "metadata": {
    "collapsed": false
   },
   "outputs": [
    {
     "data": {
      "text/plain": [
       "7.262191147715546e-7"
      ]
     },
     "execution_count": 17,
     "metadata": {},
     "output_type": "execute_result"
    }
   ],
   "source": [
    "p = Problem(9) \n",
    "function obj(x)\n",
    "    f = p.obj(x)   # objective value at x\n",
    "    g = p.grd(x)   # gradient at x\n",
    "    H = p.hes(x)   # Hessian at x\n",
    "    return (f,g,H)\n",
    "end\n",
    "x0=p.x0 \n",
    "(x,it)=newtmin( obj, x0; maxIts=100, optTol=1e-6)\n",
    "norm(p.grd(x))/norm(p.grd(x0))"
   ]
  },
  {
   "cell_type": "code",
   "execution_count": 18,
   "metadata": {
    "collapsed": false
   },
   "outputs": [
    {
     "data": {
      "text/plain": [
       "7.083640796727696e6"
      ]
     },
     "execution_count": 18,
     "metadata": {},
     "output_type": "execute_result"
    }
   ],
   "source": [
    "p = Problem(10) \n",
    "function obj(x)\n",
    "    f = p.obj(x)   # objective value at x\n",
    "    g = p.grd(x)   # gradient at x\n",
    "    H = p.hes(x)   # Hessian at x\n",
    "    return (f,g,H)\n",
    "end\n",
    "x0=p.x0 \n",
    "(x,it)=newtmin( obj, x0; maxIts=100, optTol=1e-6)\n",
    "norm(p.grd(x))/norm(p.grd(x0))"
   ]
  },
  {
   "cell_type": "code",
   "execution_count": 19,
   "metadata": {
    "collapsed": false
   },
   "outputs": [
    {
     "data": {
      "text/plain": [
       "1.9734314374508443e8"
      ]
     },
     "execution_count": 19,
     "metadata": {},
     "output_type": "execute_result"
    }
   ],
   "source": [
    "p = Problem(11) \n",
    "function obj(x)\n",
    "    f = p.obj(x)   # objective value at x\n",
    "    g = p.grd(x)   # gradient at x\n",
    "    H = p.hes(x)   # Hessian at x\n",
    "    return (f,g,H)\n",
    "end\n",
    "x0=p.x0 \n",
    "(x,it)=newtmin( obj, x0; maxIts=100, optTol=1e-6)\n",
    "norm(p.grd(x))/norm(p.grd(x0))"
   ]
  },
  {
   "cell_type": "code",
   "execution_count": 20,
   "metadata": {
    "collapsed": false
   },
   "outputs": [
    {
     "data": {
      "text/plain": [
       "2.6556527256401906e239"
      ]
     },
     "execution_count": 20,
     "metadata": {},
     "output_type": "execute_result"
    }
   ],
   "source": [
    "p = Problem(12) \n",
    "function obj(x)\n",
    "    f = p.obj(x)   # objective value at x\n",
    "    g = p.grd(x)   # gradient at x\n",
    "    H = p.hes(x)   # Hessian at x\n",
    "    return (f,g,H)\n",
    "end\n",
    "x0=p.x0 \n",
    "(x,it)=newtmin( obj, x0; maxIts=100, optTol=1e-6)\n",
    "norm(p.grd(x))/norm(p.grd(x0))"
   ]
  },
  {
   "cell_type": "code",
   "execution_count": 21,
   "metadata": {
    "collapsed": false
   },
   "outputs": [
    {
     "data": {
      "text/plain": [
       "5.50382562199281e-8"
      ]
     },
     "execution_count": 21,
     "metadata": {},
     "output_type": "execute_result"
    }
   ],
   "source": [
    "p = Problem(13) \n",
    "function obj(x)\n",
    "    f = p.obj(x)   # objective value at x\n",
    "    g = p.grd(x)   # gradient at x\n",
    "    H = p.hes(x)   # Hessian at x\n",
    "    return (f,g,H)\n",
    "end\n",
    "x0=p.x0 \n",
    "(x,it)=newtmin( obj, x0; maxIts=100, optTol=1e-6)\n",
    "norm(p.grd(x))/norm(p.grd(x0))"
   ]
  },
  {
   "cell_type": "code",
   "execution_count": 22,
   "metadata": {
    "collapsed": false
   },
   "outputs": [
    {
     "data": {
      "text/plain": [
       "8.050634401598488e9"
      ]
     },
     "execution_count": 22,
     "metadata": {},
     "output_type": "execute_result"
    }
   ],
   "source": [
    "p = Problem(14) \n",
    "function obj(x)\n",
    "    f = p.obj(x)   # objective value at x\n",
    "    g = p.grd(x)   # gradient at x\n",
    "    H = p.hes(x)   # Hessian at x\n",
    "    return (f,g,H)\n",
    "end\n",
    "x0=p.x0 \n",
    "(x,it)=newtmin( obj, x0; maxIts=100, optTol=1e-6)\n",
    "norm(p.grd(x))/norm(p.grd(x0))"
   ]
  },
  {
   "cell_type": "code",
   "execution_count": 23,
   "metadata": {
    "collapsed": false
   },
   "outputs": [
    {
     "data": {
      "text/plain": [
       "3.242292834706322e23"
      ]
     },
     "execution_count": 23,
     "metadata": {},
     "output_type": "execute_result"
    }
   ],
   "source": [
    "p = Problem(15) \n",
    "function obj(x)\n",
    "    f = p.obj(x)   # objective value at x\n",
    "    g = p.grd(x)   # gradient at x\n",
    "    H = p.hes(x)   # Hessian at x\n",
    "    return (f,g,H)\n",
    "end\n",
    "x0=p.x0 \n",
    "(x,it)=newtmin( obj, x0; maxIts=100, optTol=1e-6)\n",
    "norm(p.grd(x))/norm(p.grd(x0))"
   ]
  },
  {
   "cell_type": "code",
   "execution_count": 24,
   "metadata": {
    "collapsed": false
   },
   "outputs": [
    {
     "data": {
      "text/plain": [
       "0.0"
      ]
     },
     "execution_count": 24,
     "metadata": {},
     "output_type": "execute_result"
    }
   ],
   "source": [
    "p = Problem(16) \n",
    "function obj(x)\n",
    "    f = p.obj(x)   # objective value at x\n",
    "    g = p.grd(x)   # gradient at x\n",
    "    H = p.hes(x)   # Hessian at x\n",
    "    return (f,g,H)\n",
    "end\n",
    "x0=p.x0 \n",
    "(x,it)=newtmin( obj, x0; maxIts=100, optTol=1e-6)\n",
    "norm(p.grd(x))/norm(p.grd(x0))"
   ]
  },
  {
   "cell_type": "code",
   "execution_count": 25,
   "metadata": {
    "collapsed": false
   },
   "outputs": [
    {
     "data": {
      "text/plain": [
       "9.282369975556412e-7"
      ]
     },
     "execution_count": 25,
     "metadata": {},
     "output_type": "execute_result"
    }
   ],
   "source": [
    "p = Problem(17) \n",
    "function obj(x)\n",
    "    f = p.obj(x)   # objective value at x\n",
    "    g = p.grd(x)   # gradient at x\n",
    "    H = p.hes(x)   # Hessian at x\n",
    "    return (f,g,H)\n",
    "end\n",
    "x0=p.x0 \n",
    "(x,it)=newtmin( obj, x0; maxIts=100, optTol=1e-6)\n",
    "norm(p.grd(x))/norm(p.grd(x0))"
   ]
  },
  {
   "cell_type": "code",
   "execution_count": null,
   "metadata": {
    "collapsed": false
   },
   "outputs": [],
   "source": [
    "p = Problem(18) \n",
    "function obj(x)\n",
    "    f = p.obj(x)   # objective value at x\n",
    "    g = p.grd(x)   # gradient at x\n",
    "    H = p.hes(x)   # Hessian at x\n",
    "    return (f,g,H)\n",
    "end\n",
    "x0=p.x0 \n",
    "(x,it)=newtmin( obj, x0; maxIts=100, optTol=1e-6)\n",
    "norm(p.grd(x))/norm(p.grd(x0))"
   ]
  },
  {
   "cell_type": "code",
   "execution_count": 4,
   "metadata": {
    "collapsed": false
   },
   "outputs": [
    {
     "data": {
      "text/plain": [
       "newtmin1 (generic function with 1 method)"
      ]
     },
     "execution_count": 4,
     "metadata": {},
     "output_type": "execute_result"
    }
   ],
   "source": [
    "function newtmin1( obj, x0; maxIts=100, optTol=1e-6)\n",
    "     # Newton method with Armijo backtracking\n",
    "     # Minimize a function f using Newton’s method.\n",
    "     # obj:  a function that evaluates the objective value,\n",
    "     # gradient, and Hessian at a point x, i.e.,\n",
    "     # (f, g, H) = obj(x)\n",
    "     # x0: starting point.\n",
    "     # maxIts (optional): maximum number of iterations.\n",
    "     # optTol (optional): optimality tolerance based on\n",
    "     #                    ||grad(x)|| <= optTol*||grad(x0)||\n",
    "    mu=1e-4\n",
    "    x=x0\n",
    "    status = 0\n",
    "    its = 0\n",
    "    (f0,g0,H0)=obj(x0)\n",
    "    (f,g,H)=obj(x)\n",
    "    while status != 1\n",
    "        alpha = 1\n",
    "        xnew = x-alpha*inv(H)*g\n",
    "        (fnew,gnew,Hnew)=obj(xnew)\n",
    "        sts =-fnew+f-alpha*mu*g'*inv(H)*g\n",
    "        while sts[1]<0\n",
    "            alpha=alpha/2\n",
    "            xnew = x-alpha*inv(H)*g\n",
    "            (fnew,gnew,Hnew)=obj(xnew)\n",
    "            sts=-fnew+f-alpha*mu*g'*inv(H)*g\n",
    "        end\n",
    "        x = x-alpha*inv(H)*g\n",
    "        (f,g,H)=obj(x)\n",
    "        its = its+1\n",
    "        if norm(g)<= optTol*norm(g0)\n",
    "            status = 1\n",
    "        end\n",
    "        if its>maxIts\n",
    "            status = 1\n",
    "        end\n",
    "    end\n",
    "return (x, its)\n",
    "end"
   ]
  },
  {
   "cell_type": "code",
   "execution_count": 8,
   "metadata": {
    "collapsed": false
   },
   "outputs": [
    {
     "data": {
      "text/plain": [
       "1.0000000000000004"
      ]
     },
     "execution_count": 8,
     "metadata": {},
     "output_type": "execute_result"
    }
   ],
   "source": [
    "p = Problem(2) \n",
    "function obj(x)\n",
    "    f = p.obj(x)   # objective value at x\n",
    "    g = p.grd(x)   # gradient at x\n",
    "    H = p.hes(x)   # Hessian at x\n",
    "    return (f,g,H)\n",
    "end\n",
    "x0=p.x0 \n",
    "(x,it)=newtmin1( obj, x0; maxIts=100, optTol=1e-6)\n",
    "norm(p.grd(x))/norm(p.grd(x0))"
   ]
  },
  {
   "cell_type": "code",
   "execution_count": 13,
   "metadata": {
    "collapsed": false
   },
   "outputs": [
    {
     "data": {
      "text/plain": [
       "0.863325933874392"
      ]
     },
     "execution_count": 13,
     "metadata": {},
     "output_type": "execute_result"
    }
   ],
   "source": [
    "p = Problem(7) \n",
    "function obj(x)\n",
    "    f = p.obj(x)   # objective value at x\n",
    "    g = p.grd(x)   # gradient at x\n",
    "    H = p.hes(x)   # Hessian at x\n",
    "    return (f,g,H)\n",
    "end\n",
    "x0=p.x0 \n",
    "(x,it)=newtmin1( obj, x0; maxIts=100, optTol=1e-6)\n",
    "norm(p.grd(x))/norm(p.grd(x0))"
   ]
  },
  {
   "cell_type": "code",
   "execution_count": 14,
   "metadata": {
    "collapsed": false
   },
   "outputs": [
    {
     "data": {
      "text/plain": [
       "250000.25000099998"
      ]
     },
     "execution_count": 14,
     "metadata": {},
     "output_type": "execute_result"
    }
   ],
   "source": [
    "p = Problem(10) \n",
    "function obj(x)\n",
    "    f = p.obj(x)   # objective value at x\n",
    "    g = p.grd(x)   # gradient at x\n",
    "    H = p.hes(x)   # Hessian at x\n",
    "    return (f,g,H)\n",
    "end\n",
    "x0=p.x0 \n",
    "(x,it)=newtmin1( obj, x0; maxIts=100, optTol=1e-6)\n",
    "norm(p.grd(x))/norm(p.grd(x0))"
   ]
  },
  {
   "cell_type": "code",
   "execution_count": 15,
   "metadata": {
    "collapsed": false
   },
   "outputs": [
    {
     "data": {
      "text/plain": [
       "0.005490328480657573"
      ]
     },
     "execution_count": 15,
     "metadata": {},
     "output_type": "execute_result"
    }
   ],
   "source": [
    "p = Problem(11) \n",
    "function obj(x)\n",
    "    f = p.obj(x)   # objective value at x\n",
    "    g = p.grd(x)   # gradient at x\n",
    "    H = p.hes(x)   # Hessian at x\n",
    "    return (f,g,H)\n",
    "end\n",
    "x0=p.x0 \n",
    "(x,it)=newtmin1( obj, x0; maxIts=100, optTol=1e-6)\n",
    "norm(p.grd(x))/norm(p.grd(x0))"
   ]
  },
  {
   "cell_type": "code",
   "execution_count": 16,
   "metadata": {
    "collapsed": false
   },
   "outputs": [
    {
     "data": {
      "text/plain": [
       "0.16957718015199827"
      ]
     },
     "execution_count": 16,
     "metadata": {},
     "output_type": "execute_result"
    }
   ],
   "source": [
    "p = Problem(12) \n",
    "function obj(x)\n",
    "    f = p.obj(x)   # objective value at x\n",
    "    g = p.grd(x)   # gradient at x\n",
    "    H = p.hes(x)   # Hessian at x\n",
    "    return (f,g,H)\n",
    "end\n",
    "x0=p.x0 \n",
    "(x,it)=newtmin1( obj, x0; maxIts=100, optTol=1e-6)\n",
    "norm(p.grd(x))/norm(p.grd(x0))"
   ]
  },
  {
   "cell_type": "code",
   "execution_count": 19,
   "metadata": {
    "collapsed": false
   },
   "outputs": [
    {
     "data": {
      "text/plain": [
       "0.5779385738800985"
      ]
     },
     "execution_count": 19,
     "metadata": {},
     "output_type": "execute_result"
    }
   ],
   "source": [
    "p = Problem(14) \n",
    "function obj(x)\n",
    "    f = p.obj(x)   # objective value at x\n",
    "    g = p.grd(x)   # gradient at x\n",
    "    H = p.hes(x)   # Hessian at x\n",
    "    return (f,g,H)\n",
    "end\n",
    "x0=p.x0 \n",
    "(x,it)=newtmin1( obj, x0; maxIts=100, optTol=1e-6)\n",
    "norm(p.grd(x))/norm(p.grd(x0))"
   ]
  },
  {
   "cell_type": "code",
   "execution_count": 20,
   "metadata": {
    "collapsed": false
   },
   "outputs": [
    {
     "data": {
      "text/plain": [
       "0.45464058777161137"
      ]
     },
     "execution_count": 20,
     "metadata": {},
     "output_type": "execute_result"
    }
   ],
   "source": [
    "p = Problem(15) \n",
    "function obj(x)\n",
    "    f = p.obj(x)   # objective value at x\n",
    "    g = p.grd(x)   # gradient at x\n",
    "    H = p.hes(x)   # Hessian at x\n",
    "    return (f,g,H)\n",
    "end\n",
    "x0=p.x0 \n",
    "(x,it)=newtmin1( obj, x0; maxIts=100, optTol=1e-6)\n",
    "norm(p.grd(x))/norm(p.grd(x0))"
   ]
  },
  {
   "cell_type": "code",
   "execution_count": 21,
   "metadata": {
    "collapsed": false
   },
   "outputs": [
    {
     "data": {
      "text/plain": [
       "0.933985346920556"
      ]
     },
     "execution_count": 21,
     "metadata": {},
     "output_type": "execute_result"
    }
   ],
   "source": [
    "p = Problem(18) \n",
    "function obj(x)\n",
    "    f = p.obj(x)   # objective value at x\n",
    "    g = p.grd(x)   # gradient at x\n",
    "    H = p.hes(x)   # Hessian at x\n",
    "    return (f,g,H)\n",
    "end\n",
    "x0=p.x0 \n",
    "(x,it)=newtmin1( obj, x0; maxIts=100, optTol=1e-6)\n",
    "norm(p.grd(x))/norm(p.grd(x0))"
   ]
  },
  {
   "cell_type": "code",
   "execution_count": 5,
   "metadata": {
    "collapsed": false
   },
   "outputs": [
    {
     "data": {
      "text/plain": [
       "newtmin2 (generic function with 1 method)"
      ]
     },
     "execution_count": 5,
     "metadata": {},
     "output_type": "execute_result"
    }
   ],
   "source": [
    "function newtmin2( obj, x0; maxIts=100, optTol=1e-6)\n",
    "    # Newton method with Armijo backtracking and some treatment with Hessian, treatment 1\n",
    "     # Minimize a function f using Newton’s method.\n",
    "     # obj:  a function that evaluates the objective value,\n",
    "     # gradient, and Hessian at a point x, i.e.,\n",
    "     # (f, g, H) = obj(x)\n",
    "     # x0: starting point.\n",
    "     # maxIts (optional): maximum number of iterations.\n",
    "     # optTol (optional): optimality tolerance based on\n",
    "     #                    ||grad(x)|| <= optTol*||grad(x0)||\n",
    "    mu=1e-4\n",
    "    epsilon=0.01\n",
    "    x=x0\n",
    "    status = 0\n",
    "    its = 0\n",
    "    (f0,g0,H0)=obj(x0)\n",
    "    (f,g,H)=obj(x)\n",
    "    (V,S)=eig(H)\n",
    "    bar=ones(size(H,1))*epsilon\n",
    "    bar=Diagonal(bar)\n",
    "    bH=S*max(bar,Diagonal(V))*S'\n",
    "    while status != 1\n",
    "        alpha = 1\n",
    "        xnew = x-alpha*inv(bH)*g\n",
    "        (fnew,gnew,Hnew)=obj(xnew)\n",
    "        sts =-fnew+f-alpha*mu*g'*inv(bH)*g\n",
    "        while sts[1]<0\n",
    "            alpha=alpha/2\n",
    "            xnew = x-alpha*inv(bH)*g\n",
    "            (fnew,gnew,Hnew)=obj(xnew)\n",
    "            sts=-fnew+f-alpha*mu*g'*inv(bH)*g\n",
    "        end\n",
    "        x = x-alpha*inv(bH)*g\n",
    "        (f,g,H)=obj(x)\n",
    "        (V,S)=eig(H)\n",
    "        bar=ones(size(H,1))*epsilon\n",
    "        bar=Diagonal(bar)\n",
    "        bH=S*max(bar,Diagonal(V))*S'\n",
    "        its = its+1\n",
    "        if norm(g)<= optTol*norm(g0)\n",
    "            status = 1\n",
    "        end\n",
    "        if its>maxIts\n",
    "            status = 1\n",
    "        end\n",
    "    end\n",
    "return (x, its)\n",
    "end"
   ]
  },
  {
   "cell_type": "code",
   "execution_count": 72,
   "metadata": {
    "collapsed": false
   },
   "outputs": [
    {
     "data": {
      "text/plain": [
       "0.15069684447784829"
      ]
     },
     "execution_count": 72,
     "metadata": {},
     "output_type": "execute_result"
    }
   ],
   "source": [
    "p = Problem(2) \n",
    "function obj(x)\n",
    "    f = p.obj(x)   # objective value at x\n",
    "    g = p.grd(x)   # gradient at x\n",
    "    H = p.hes(x)   # Hessian at x\n",
    "    return (f,g,H)\n",
    "end\n",
    "x0=p.x0 \n",
    "(x,it)=newtmin2( obj, x0; maxIts=100, optTol=1e-6)\n",
    "norm(p.grd(x))/norm(p.grd(x0))"
   ]
  },
  {
   "cell_type": "code",
   "execution_count": 73,
   "metadata": {
    "collapsed": false
   },
   "outputs": [
    {
     "data": {
      "text/plain": [
       "0.0698683411045317"
      ]
     },
     "execution_count": 73,
     "metadata": {},
     "output_type": "execute_result"
    }
   ],
   "source": [
    "p = Problem(7) \n",
    "function obj(x)\n",
    "    f = p.obj(x)   # objective value at x\n",
    "    g = p.grd(x)   # gradient at x\n",
    "    H = p.hes(x)   # Hessian at x\n",
    "    return (f,g,H)\n",
    "end\n",
    "x0=p.x0 \n",
    "(x,it)=newtmin2( obj, x0; maxIts=100, optTol=1e-6)\n",
    "norm(p.grd(x))/norm(p.grd(x0))"
   ]
  },
  {
   "cell_type": "code",
   "execution_count": 74,
   "metadata": {
    "collapsed": false
   },
   "outputs": [
    {
     "data": {
      "text/plain": [
       "8.404388296420837e-13"
      ]
     },
     "execution_count": 74,
     "metadata": {},
     "output_type": "execute_result"
    }
   ],
   "source": [
    "p = Problem(10) \n",
    "function obj(x)\n",
    "    f = p.obj(x)   # objective value at x\n",
    "    g = p.grd(x)   # gradient at x\n",
    "    H = p.hes(x)   # Hessian at x\n",
    "    return (f,g,H)\n",
    "end\n",
    "x0=p.x0 \n",
    "(x,it)=newtmin2( obj, x0; maxIts=100, optTol=1e-6)\n",
    "norm(p.grd(x))/norm(p.grd(x0))"
   ]
  },
  {
   "cell_type": "code",
   "execution_count": 77,
   "metadata": {
    "collapsed": false
   },
   "outputs": [
    {
     "data": {
      "text/plain": [
       "0.22947981066293166"
      ]
     },
     "execution_count": 77,
     "metadata": {},
     "output_type": "execute_result"
    }
   ],
   "source": [
    "p = Problem(11) \n",
    "function obj(x)\n",
    "    f = p.obj(x)   # objective value at x\n",
    "    g = p.grd(x)   # gradient at x\n",
    "    H = p.hes(x)   # Hessian at x\n",
    "    return (f,g,H)\n",
    "end\n",
    "x0=p.x0 \n",
    "(x,it)=newtmin2( obj, x0; maxIts=100, optTol=1e-6)\n",
    "norm(p.grd(x))/norm(p.grd(x0))"
   ]
  },
  {
   "cell_type": "code",
   "execution_count": 80,
   "metadata": {
    "collapsed": false
   },
   "outputs": [
    {
     "data": {
      "text/plain": [
       "1.5231878310266746e-5"
      ]
     },
     "execution_count": 80,
     "metadata": {},
     "output_type": "execute_result"
    }
   ],
   "source": [
    "p = Problem(12) \n",
    "function obj(x)\n",
    "    f = p.obj(x)   # objective value at x\n",
    "    g = p.grd(x)   # gradient at x\n",
    "    H = p.hes(x)   # Hessian at x\n",
    "    return (f,g,H)\n",
    "end\n",
    "x0=p.x0 \n",
    "(x,it)=newtmin2( obj, x0; maxIts=100, optTol=1e-6)\n",
    "norm(p.grd(x))/norm(p.grd(x0))"
   ]
  },
  {
   "cell_type": "code",
   "execution_count": 83,
   "metadata": {
    "collapsed": false
   },
   "outputs": [
    {
     "data": {
      "text/plain": [
       "0.9826622874404953"
      ]
     },
     "execution_count": 83,
     "metadata": {},
     "output_type": "execute_result"
    }
   ],
   "source": [
    "p = Problem(14) \n",
    "function obj(x)\n",
    "    f = p.obj(x)   # objective value at x\n",
    "    g = p.grd(x)   # gradient at x\n",
    "    H = p.hes(x)   # Hessian at x\n",
    "    return (f,g,H)\n",
    "end\n",
    "x0=p.x0 \n",
    "(x,it)=newtmin2( obj, x0; maxIts=100, optTol=1e-6)\n",
    "norm(p.grd(x))/norm(p.grd(x0))"
   ]
  },
  {
   "cell_type": "code",
   "execution_count": 86,
   "metadata": {
    "collapsed": false
   },
   "outputs": [
    {
     "data": {
      "text/plain": [
       "0.834929873113459"
      ]
     },
     "execution_count": 86,
     "metadata": {},
     "output_type": "execute_result"
    }
   ],
   "source": [
    "p = Problem(15) \n",
    "function obj(x)\n",
    "    f = p.obj(x)   # objective value at x\n",
    "    g = p.grd(x)   # gradient at x\n",
    "    H = p.hes(x)   # Hessian at x\n",
    "    return (f,g,H)\n",
    "end\n",
    "x0=p.x0 \n",
    "(x,it)=newtmin2( obj, x0; maxIts=100, optTol=1e-6)\n",
    "norm(p.grd(x))/norm(p.grd(x0))"
   ]
  },
  {
   "cell_type": "code",
   "execution_count": 89,
   "metadata": {
    "collapsed": false
   },
   "outputs": [
    {
     "data": {
      "text/plain": [
       "0.32465019085415453"
      ]
     },
     "execution_count": 89,
     "metadata": {},
     "output_type": "execute_result"
    }
   ],
   "source": [
    "p = Problem(18) \n",
    "function obj(x)\n",
    "    f = p.obj(x)   # objective value at x\n",
    "    g = p.grd(x)   # gradient at x\n",
    "    H = p.hes(x)   # Hessian at x\n",
    "    return (f,g,H)\n",
    "end\n",
    "x0=p.x0 \n",
    "(x,it)=newtmin2( obj, x0; maxIts=100, optTol=1e-6)\n",
    "norm(p.grd(x))/norm(p.grd(x0))"
   ]
  },
  {
   "cell_type": "code",
   "execution_count": 6,
   "metadata": {
    "collapsed": false
   },
   "outputs": [
    {
     "data": {
      "text/plain": [
       "newtmin3 (generic function with 1 method)"
      ]
     },
     "execution_count": 6,
     "metadata": {},
     "output_type": "execute_result"
    }
   ],
   "source": [
    "function newtmin3( obj, x0; maxIts=100, optTol=1e-6)\n",
    "    # Newton method with Armijo backtracking and some treatment with Hessian, treatment 2\n",
    "     # Minimize a function f using Newton’s method.\n",
    "     # obj:  a function that evaluates the objective value,\n",
    "     # gradient, and Hessian at a point x, i.e.,\n",
    "     # (f, g, H) = obj(x)\n",
    "     # x0: starting point.\n",
    "     # maxIts (optional): maximum number of iterations.\n",
    "     # optTol (optional): optimality tolerance based on\n",
    "     #                    ||grad(x)|| <= optTol*||grad(x0)||\n",
    "    mu=1e-4\n",
    "    epsilon=0.01\n",
    "    x=x0\n",
    "    status = 0\n",
    "    its = 0\n",
    "    (f0,g0,H0)=obj(x0)\n",
    "    (f,g,H)=obj(x)\n",
    "    (V,S)=eig(H)\n",
    "    bar=ones(size(H,1))*epsilon\n",
    "    bar=Diagonal(bar)\n",
    "    bH=S*max(bar,abs(Diagonal(V)))*S'\n",
    "    while status != 1\n",
    "        alpha = 1\n",
    "        xnew = x-alpha*inv(bH)*g\n",
    "        (fnew,gnew,Hnew)=obj(xnew)\n",
    "        sts =-fnew+f-alpha*mu*g'*inv(bH)*g\n",
    "        while sts[1]<0\n",
    "            alpha=alpha/2\n",
    "            xnew = x-alpha*inv(bH)*g\n",
    "            (fnew,gnew,Hnew)=obj(xnew)\n",
    "            sts=-fnew+f-alpha*mu*g'*inv(bH)*g\n",
    "        end\n",
    "        x = x-alpha*inv(bH)*g\n",
    "        (f,g,H)=obj(x)\n",
    "        (V,S)=eig(H)\n",
    "        bar=ones(size(H,1))*epsilon\n",
    "        bar=Diagonal(bar)\n",
    "        bH=S*max(bar,abs(Diagonal(V)))*S'\n",
    "        its = its+1\n",
    "        if norm(g)<= optTol*norm(g0)\n",
    "            status = 1\n",
    "        end\n",
    "        if its>maxIts\n",
    "            status = 1\n",
    "        end\n",
    "    end\n",
    "return (x, its)\n",
    "end"
   ]
  },
  {
   "cell_type": "code",
   "execution_count": 104,
   "metadata": {
    "collapsed": false
   },
   "outputs": [
    {
     "data": {
      "text/plain": [
       "0.04974099571706037"
      ]
     },
     "execution_count": 104,
     "metadata": {},
     "output_type": "execute_result"
    }
   ],
   "source": [
    "p = Problem(2) \n",
    "function obj(x)\n",
    "    f = p.obj(x)   # objective value at x\n",
    "    g = p.grd(x)   # gradient at x\n",
    "    H = p.hes(x)   # Hessian at x\n",
    "    return (f,g,H)\n",
    "end\n",
    "x0=p.x0 \n",
    "(x,it)=newtmin3( obj, x0; maxIts=100, optTol=1e-6)\n",
    "norm(p.grd(x))/norm(p.grd(x0))"
   ]
  },
  {
   "cell_type": "code",
   "execution_count": 96,
   "metadata": {
    "collapsed": false
   },
   "outputs": [
    {
     "data": {
      "text/plain": [
       "0.003400009283027661"
      ]
     },
     "execution_count": 96,
     "metadata": {},
     "output_type": "execute_result"
    }
   ],
   "source": [
    "p = Problem(7) \n",
    "function obj(x)\n",
    "    f = p.obj(x)   # objective value at x\n",
    "    g = p.grd(x)   # gradient at x\n",
    "    H = p.hes(x)   # Hessian at x\n",
    "    return (f,g,H)\n",
    "end\n",
    "x0=p.x0 \n",
    "(x,it)=newtmin3( obj, x0; maxIts=100, optTol=1e-6)\n",
    "norm(p.grd(x))/norm(p.grd(x0))"
   ]
  },
  {
   "cell_type": "code",
   "execution_count": 97,
   "metadata": {
    "collapsed": false
   },
   "outputs": [
    {
     "data": {
      "text/plain": [
       "1.789679515697544e-13"
      ]
     },
     "execution_count": 97,
     "metadata": {},
     "output_type": "execute_result"
    }
   ],
   "source": [
    "p = Problem(10) \n",
    "function obj(x)\n",
    "    f = p.obj(x)   # objective value at x\n",
    "    g = p.grd(x)   # gradient at x\n",
    "    H = p.hes(x)   # Hessian at x\n",
    "    return (f,g,H)\n",
    "end\n",
    "x0=p.x0 \n",
    "(x,it)=newtmin3( obj, x0; maxIts=100, optTol=1e-6)\n",
    "norm(p.grd(x))/norm(p.grd(x0))"
   ]
  },
  {
   "cell_type": "code",
   "execution_count": 98,
   "metadata": {
    "collapsed": false
   },
   "outputs": [
    {
     "data": {
      "text/plain": [
       "3.3822921362972896e-7"
      ]
     },
     "execution_count": 98,
     "metadata": {},
     "output_type": "execute_result"
    }
   ],
   "source": [
    "p = Problem(11) \n",
    "function obj(x)\n",
    "    f = p.obj(x)   # objective value at x\n",
    "    g = p.grd(x)   # gradient at x\n",
    "    H = p.hes(x)   # Hessian at x\n",
    "    return (f,g,H)\n",
    "end\n",
    "x0=p.x0 \n",
    "(x,it)=newtmin3( obj, x0; maxIts=100, optTol=1e-6)\n",
    "norm(p.grd(x))/norm(p.grd(x0))"
   ]
  },
  {
   "cell_type": "code",
   "execution_count": 99,
   "metadata": {
    "collapsed": false
   },
   "outputs": [
    {
     "data": {
      "text/plain": [
       "0.011037420345164398"
      ]
     },
     "execution_count": 99,
     "metadata": {},
     "output_type": "execute_result"
    }
   ],
   "source": [
    "p = Problem(14) \n",
    "function obj(x)\n",
    "    f = p.obj(x)   # objective value at x\n",
    "    g = p.grd(x)   # gradient at x\n",
    "    H = p.hes(x)   # Hessian at x\n",
    "    return (f,g,H)\n",
    "end\n",
    "x0=p.x0 \n",
    "(x,it)=newtmin3( obj, x0; maxIts=100, optTol=1e-6)\n",
    "norm(p.grd(x))/norm(p.grd(x0))"
   ]
  },
  {
   "cell_type": "code",
   "execution_count": 100,
   "metadata": {
    "collapsed": false
   },
   "outputs": [
    {
     "data": {
      "text/plain": [
       "0.001195675544522462"
      ]
     },
     "execution_count": 100,
     "metadata": {},
     "output_type": "execute_result"
    }
   ],
   "source": [
    "p = Problem(15) \n",
    "function obj(x)\n",
    "    f = p.obj(x)   # objective value at x\n",
    "    g = p.grd(x)   # gradient at x\n",
    "    H = p.hes(x)   # Hessian at x\n",
    "    return (f,g,H)\n",
    "end\n",
    "x0=p.x0 \n",
    "(x,it)=newtmin3( obj, x0; maxIts=100, optTol=1e-6)\n",
    "norm(p.grd(x))/norm(p.grd(x0))"
   ]
  },
  {
   "cell_type": "code",
   "execution_count": 101,
   "metadata": {
    "collapsed": false
   },
   "outputs": [
    {
     "data": {
      "text/plain": [
       "0.0407760590874033"
      ]
     },
     "execution_count": 101,
     "metadata": {},
     "output_type": "execute_result"
    }
   ],
   "source": [
    "p = Problem(18) \n",
    "function obj(x)\n",
    "    f = p.obj(x)   # objective value at x\n",
    "    g = p.grd(x)   # gradient at x\n",
    "    H = p.hes(x)   # Hessian at x\n",
    "    return (f,g,H)\n",
    "end\n",
    "x0=p.x0 \n",
    "(x,it)=newtmin3( obj, x0; maxIts=100, optTol=1e-6)\n",
    "norm(p.grd(x))/norm(p.grd(x0))"
   ]
  },
  {
   "cell_type": "code",
   "execution_count": 7,
   "metadata": {
    "collapsed": false
   },
   "outputs": [
    {
     "data": {
      "text/plain": [
       "mybfgs (generic function with 1 method)"
      ]
     },
     "execution_count": 7,
     "metadata": {},
     "output_type": "execute_result"
    }
   ],
   "source": [
    "function mybfgs( obj, x0; maxIts=100, optTol=1e-6)\n",
    "    # BFGS method with Armijo backtracking and some treatment with initial Hessian, treatment 2\n",
    "     # Minimize a function f using Newton’s method.\n",
    "     # obj:  a function that evaluates the objective value,\n",
    "     # gradient, and Hessian at a point x, i.e.,\n",
    "     # (f, g, H) = obj(x)\n",
    "     # x0: starting point.\n",
    "     # maxIts (optional): maximum number of iterations.\n",
    "     # optTol (optional): optimality tolerance based on\n",
    "     #                    ||grad(x)|| <= optTol*||grad(x0)||\n",
    "    mu=1e-4\n",
    "    epsilon=0.01\n",
    "    x=x0\n",
    "    status = 0\n",
    "    its = 0\n",
    "    (f0,g0,H0)=obj(x0)\n",
    "    (f,g,H)=obj(x)\n",
    "    (V,S)=eig(H)\n",
    "    bar=ones(size(H,1))*epsilon\n",
    "    bar=Diagonal(bar)\n",
    "    bH=S*max(bar,abs(Diagonal(V)))*S'\n",
    "     Hk=bH\n",
    "    while status != 1\n",
    "        mp=-Hk*g\n",
    "        #////////////////////////////////////////////////////\n",
    "        #line search\n",
    "        alpha = 1\n",
    "        xnew = x+alpha*mp\n",
    "        (fnew,gnew,Hnew)=obj(xnew)\n",
    "        sts =-fnew+f+alpha*mu*g'*mp\n",
    "        while sts[1]<0\n",
    "            alpha=alpha/2\n",
    "            xnew = x+alpha*mp\n",
    "            (fnew,gnew,Hnew)=obj(xnew)\n",
    "            sts=-fnew+f+alpha*mu*g'*mp\n",
    "        end\n",
    "        #////////////////////////////////////////////////////\n",
    "        sk=alpha*mp\n",
    "        yk=gnew-g\n",
    "        tt1=yk'*sk\n",
    "        tt1=tt1[1]\n",
    "        rho=1/tt1\n",
    "        Hk=(eye(size(Hk,1))-rho*sk*yk')*Hk*(eye(size(Hk,1))-rho*yk*sk')+rho*sk*sk'\n",
    "        x = x+alpha*mp\n",
    "        (f,g,H)=obj(x)\n",
    "        its = its+1\n",
    "        if norm(g)<= optTol*norm(g0)\n",
    "            status = 1\n",
    "        end\n",
    "        if its>maxIts\n",
    "            status = 1\n",
    "        end\n",
    "    end\n",
    "return (x, its)\n",
    "end"
   ]
  },
  {
   "cell_type": "code",
   "execution_count": 8,
   "metadata": {
    "collapsed": false
   },
   "outputs": [
    {
     "data": {
      "text/plain": [
       "0.004652492176771119"
      ]
     },
     "execution_count": 8,
     "metadata": {},
     "output_type": "execute_result"
    }
   ],
   "source": [
    "p = Problem(18) \n",
    "function obj(x)\n",
    "    f = p.obj(x)   # objective value at x\n",
    "    g = p.grd(x)   # gradient at x\n",
    "    H = p.hes(x)   # Hessian at x\n",
    "    return (f,g,H)\n",
    "end\n",
    "x0=p.x0 \n",
    "(x,it)=mybfgs( obj, x0; maxIts=100, optTol=1e-6)\n",
    "norm(p.grd(x))/norm(p.grd(x0))"
   ]
  },
  {
   "cell_type": "markdown",
   "metadata": {},
   "source": [
    "# Exercise 2"
   ]
  },
  {
   "cell_type": "markdown",
   "metadata": {},
   "source": [
    "Below is the staff about Exercise 2, one can see that inorder to get the same level of accuracy, the steepest descent method I used in homework 2 requires 262 steps, but mybfgs only need 8 steps. It is much faster than the method in homework 2."
   ]
  },
  {
   "cell_type": "code",
   "execution_count": 9,
   "metadata": {
    "collapsed": false
   },
   "outputs": [],
   "source": [
    "data = readcsv(\"binary.csv\");\n",
    "admit=data[2:401,1];\n",
    "gre=data[2:401,2];\n",
    "gpa=data[2:401,3];\n",
    "admit=convert(Array{Float64,1}, admit);\n",
    "gre=convert(Array{Float64,1}, gre)/800;\n",
    "gpa=convert(Array{Float64,1}, gpa);\n",
    "A=[gre gpa];\n",
    "u=A;\n",
    "y=admit;"
   ]
  },
  {
   "cell_type": "code",
   "execution_count": 10,
   "metadata": {
    "collapsed": false
   },
   "outputs": [
    {
     "data": {
      "text/plain": [
       "logf (generic function with 1 method)"
      ]
     },
     "execution_count": 10,
     "metadata": {},
     "output_type": "execute_result"
    }
   ],
   "source": [
    "function logf(x,y,u)\n",
    "    alpha=x[1:length(x)-1]\n",
    "    beta=x[length(x)]\n",
    "    zz=ones(size(y))\n",
    "    -(u*alpha+beta)'*y+(log(1+exp(u*alpha+beta)))'*zz\n",
    "    #xx=0\n",
    "    #for i =1:length(y)\n",
    "     #   xx=xx+y[i]*(alpha'*u[i,:]'+beta)-log(1+exp(alpha'*u[i,:]'+beta))\n",
    "    #end\n",
    "    #return -xx\n",
    "end"
   ]
  },
  {
   "cell_type": "code",
   "execution_count": 11,
   "metadata": {
    "collapsed": false
   },
   "outputs": [
    {
     "data": {
      "text/plain": [
       "logg (generic function with 1 method)"
      ]
     },
     "execution_count": 11,
     "metadata": {},
     "output_type": "execute_result"
    }
   ],
   "source": [
    "function logg(x,y,u) \n",
    "    alpha=x[1:length(x)-1]\n",
    "    beta=x[length(x)]\n",
    "    zz=ones(size(y))\n",
    "    upp=u'*y-u'*(exp(u*alpha+beta)./(1+exp(u*alpha+beta)))\n",
    "    lpp=zz'*y-zz'*(exp(u*alpha+beta)./(1+exp(u*alpha+beta)))\n",
    "        #upp1=0\n",
    "        #upp2=0\n",
    "        #lpp=0\n",
    "    #for i =1:length(y)\n",
    "     #   upp1=upp1+y[i]*u[i,1]-exp(alpha[1]*u[i,1]+alpha[2]*u[i,2]+beta)/(1+exp(alpha[1]*u[i,1]+alpha[2]*u[i,2]+beta))*u[i,1]\n",
    "     #   upp2=upp2+y[i]*u[i,2]-exp(alpha[1]*u[i,1]+alpha[2]*u[i,2]+beta)/(1+exp(alpha[1]*u[i,1]+alpha[2]*u[i,2]+beta))*u[i,2]\n",
    "     #   lpp=lpp+y[i]-exp(alpha'*u[i,:]'+beta)/(1+exp(alpha'*u[i,:]'+beta))\n",
    "    #end\n",
    "    return [-upp; -lpp]\n",
    "end"
   ]
  },
  {
   "cell_type": "code",
   "execution_count": 20,
   "metadata": {
    "collapsed": false
   },
   "outputs": [
    {
     "data": {
      "text/plain": [
       "logH (generic function with 1 method)"
      ]
     },
     "execution_count": 20,
     "metadata": {},
     "output_type": "execute_result"
    }
   ],
   "source": [
    "function logH(x,y,u)\n",
    "    alpha=x[1:length(x)-1]\n",
    "    beta=x[length(x)]\n",
    "    zz=ones(size(y))\n",
    "    myexp=exp(u*alpha+beta)\n",
    "    lr=-zz'*(exp(u*alpha+beta)./(1+exp(u*alpha+beta)).^2)\n",
    "    ur=-u'*(exp(u*alpha+beta)./(1+exp(u*alpha+beta)).^2)\n",
    "    ll=ur'\n",
    "    ul=zeros(2,2)\n",
    "    for i=1:length(y)\n",
    "        ul=ul-u[i,:]'*u[i,:]*myexp[i]/(1+myexp[i])^2\n",
    "    end\n",
    "    return [-ul ur;ll lr]\n",
    "end"
   ]
  },
  {
   "cell_type": "code",
   "execution_count": 21,
   "metadata": {
    "collapsed": false
   },
   "outputs": [
    {
     "data": {
      "text/plain": [
       "([2.152545051902534,0.7546868120233584,-4.9493772373034925],8)"
      ]
     },
     "execution_count": 21,
     "metadata": {},
     "output_type": "execute_result"
    }
   ],
   "source": [
    "function obj(x)\n",
    "    f = logf(x,y,u)   # objective value at x\n",
    "    g = logg(x,y,u)   # gradient at x\n",
    "    H = logH(x,y,u)   # Hessian at x\n",
    "    return (f,g,H)\n",
    "end\n",
    "x0=[0.0,0.0,0.0] \n",
    "(x,it)=mybfgs( obj, x0; maxIts=100, optTol=1e-6)\n"
   ]
  },
  {
   "cell_type": "code",
   "execution_count": 24,
   "metadata": {
    "collapsed": false
   },
   "outputs": [
    {
     "data": {
      "image/png": "[encoded data removed]",
      "text/plain": [
       "PyPlot.Figure(PyObject <matplotlib.figure.Figure object at 0x7efe569b5f50>)"
      ]
     },
     "metadata": {},
     "output_type": "display_data"
    },
    {
     "data": {
      "text/plain": [
       "1-element Array{Any,1}:\n",
       " PyObject <matplotlib.lines.Line2D object at 0x7efe56953390>"
      ]
     },
     "execution_count": 24,
     "metadata": {},
     "output_type": "execute_result"
    }
   ],
   "source": [
    "alpha=x[1:2];\n",
    "beta=x[3];\n",
    "plot(gre[admit.==1]*800,gpa[admit.==1],\"+\")\n",
    "plot(gre[admit.==0]*800,gpa[admit.==0],\"o\")\n",
    "rrr=0.6*800:1/100:800\n",
    "ry=-alpha[1]/alpha[2]*rrr/800+(-1/2-beta)/alpha[2]\n",
    "plot(rrr,ry)"
   ]
  },
  {
   "cell_type": "code",
   "execution_count": null,
   "metadata": {
    "collapsed": true
   },
   "outputs": [],
   "source": []
  }
 ],
 "metadata": {
  "kernelspec": {
   "display_name": "Julia 0.5.0-dev",
   "language": "julia",
   "name": "julia-0.5"
  },
  "language_info": {
   "file_extension": ".jl",
   "mimetype": "application/julia",
   "name": "julia",
   "version": "0.5.0"
  }
 },
 "nbformat": 4,
 "nbformat_minor": 0
}
